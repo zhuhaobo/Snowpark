# Create a list of fruits
fruits = ["apple", "banana", "orange", "mango"]

# Print the list
print(fruits)

# Access an element by index (starts from 0)
first_fruit = fruits[0]
print(f"The first fruit is: {first_fruit}")
